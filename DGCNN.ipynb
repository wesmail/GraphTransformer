{
 "cells": [
  {
   "cell_type": "markdown",
   "metadata": {},
   "source": [
    "## Backpropagation through `knn`"
   ]
  },
  {
   "cell_type": "code",
   "execution_count": null,
   "metadata": {},
   "outputs": [],
   "source": [
    "import torch\n",
    "import torch.nn.functional as F\n",
    "\n",
    "# Example: Feature matrix [B, N, D]\n",
    "B, N, D = 2, 5, 3\n",
    "features = torch.randn(B, N, D, requires_grad=True)\n",
    "\n",
    "# Compute pairwise distances\n",
    "pairwise_dist = torch.cdist(features, features, p=2)  # [B, N, N]\n",
    "\n",
    "# Get k-nearest neighbors (k=3)\n",
    "k = 2\n",
    "_, knn_indices = pairwise_dist.topk(k, dim=-1, largest=False)\n",
    "\n",
    "# Gather neighbor features\n",
    "neighbors = torch.gather(\n",
    "    features.unsqueeze(2).expand(-1, -1, N, -1),\n",
    "    2,\n",
    "    knn_indices.unsqueeze(-1).expand(-1, -1, -1, D)\n",
    ")\n",
    "\n",
    "# Simple loss on neighbors (mean of neighbor features)\n",
    "loss = neighbors.mean()\n",
    "loss.backward()\n",
    "\n",
    "print(\"Gradients on features:\\n\", features.grad)"
   ]
  },
  {
   "cell_type": "markdown",
   "metadata": {},
   "source": [
    "## Edge Cnvolution with edge features"
   ]
  },
  {
   "cell_type": "code",
   "execution_count": 11,
   "metadata": {},
   "outputs": [],
   "source": [
    "import torch\n",
    "import torch.nn as nn\n",
    "import torch.nn.functional as F\n",
    "\n",
    "class EdgeConvWithEdgeFeatures(nn.Module):\n",
    "    def __init__(self, in_channels, edge_in_channels, out_channels, k):\n",
    "        super(EdgeConvWithEdgeFeatures, self).__init__()\n",
    "        self.k = k\n",
    "        self.mlp = nn.Sequential(\n",
    "            nn.Linear(2 * in_channels + edge_in_channels, out_channels, bias=False),\n",
    "            nn.BatchNorm1d(out_channels),\n",
    "            nn.ReLU()\n",
    "        )\n",
    "    \n",
    "    def forward(self, x, edge_features):\n",
    "        \"\"\"\n",
    "        Args:\n",
    "            x: Input point cloud data, shape [B, N, D]\n",
    "               B - batch size, N - number of points, D - feature dimensions\n",
    "            edge_features: Input edge features, shape [B, N, k, E]\n",
    "               E - edge feature dimensions\n",
    "        Returns:\n",
    "            x_out: Updated features after EdgeConv, shape [B, N, out_channels]\n",
    "        \"\"\"\n",
    "        B, N, D = x.size()\n",
    "        _, _, _, E = edge_features.size()\n",
    "        \n",
    "        # Step 1: Compute pairwise distance and get k-nearest neighbors\n",
    "        pairwise_dist = torch.cdist(x, x, p=2)  # [B, N, N]\n",
    "        idx = pairwise_dist.topk(k=self.k, dim=-1, largest=False)[1]  # [B, N, k]\n",
    "        \n",
    "        # Step 2: Gather neighbor features\n",
    "        neighbors = torch.gather(\n",
    "            x.unsqueeze(2).expand(-1, -1, N, -1), \n",
    "            2, \n",
    "            idx.unsqueeze(-1).expand(-1, -1, -1, D)\n",
    "        )  # [B, N, k, D]\n",
    "        \n",
    "        # Central point repeated for k neighbors: [B, N, k, D]\n",
    "        central = x.unsqueeze(2).expand(-1, -1, self.k, -1)\n",
    "        \n",
    "        # Step 3: Compute edge features\n",
    "        relative_features = neighbors - central  # [B, N, k, D]\n",
    "        combined_features = torch.cat([central, relative_features, edge_features], dim=-1)  # [B, N, k, 2*D + E]\n",
    "        \n",
    "        # Step 4: Apply MLP and aggregation\n",
    "        combined_features = self.mlp(combined_features.view(-1, 2 * D + E))  # [B * N * k, out_channels]\n",
    "        combined_features = combined_features.view(B, N, self.k, -1)  # Reshape to [B, N, k, out_channels]\n",
    "        \n",
    "        # Aggregate (max pooling across neighbors)\n",
    "        x_out = combined_features.max(dim=2)[0]  # [B, N, out_channels]\n",
    "        \n",
    "        return x_out\n"
   ]
  },
  {
   "cell_type": "markdown",
   "metadata": {},
   "source": [
    "### Without Edge Features"
   ]
  },
  {
   "cell_type": "code",
   "execution_count": null,
   "metadata": {},
   "outputs": [
    {
     "name": "stdout",
     "output_type": "stream",
     "text": [
      "Output Shape: torch.Size([1, 4, 16])\n"
     ]
    }
   ],
   "source": [
    "B, N, D, k = 1, 4, 3, 2\n",
    "x = torch.rand(B, N, D)  # Point cloud (Graph) features\n",
    "edge_features = torch.zeros(B, N, k, 0)  # No edge features (E = 0)\n",
    "\n",
    "model = EdgeConvWithEdgeFeatures(in_channels=D, edge_in_channels=0, out_channels=16, k=k)\n",
    "output = model(x, edge_features)\n",
    "print(\"Output Shape:\", output.shape)  # [B, N, 16]"
   ]
  },
  {
   "cell_type": "markdown",
   "metadata": {},
   "source": [
    "### With Edge Features"
   ]
  },
  {
   "cell_type": "code",
   "execution_count": null,
   "metadata": {},
   "outputs": [
    {
     "name": "stdout",
     "output_type": "stream",
     "text": [
      "Output Shape: torch.Size([1, 4, 16])\n"
     ]
    }
   ],
   "source": [
    "B, N, D, k, E = 1, 4, 3, 2, 2\n",
    "x = torch.rand(B, N, D)  # Point cloud (Graph) features\n",
    "edge_features = torch.rand(B, N, k, E)  # Edge features\n",
    "\n",
    "model = EdgeConvWithEdgeFeatures(in_channels=D, edge_in_channels=E, out_channels=16, k=k)\n",
    "output = model(x, edge_features)\n",
    "print(\"Output Shape:\", output.shape)  # [B, N, 16]"
   ]
  }
 ],
 "metadata": {
  "kernelspec": {
   "display_name": "pytorch",
   "language": "python",
   "name": "python3"
  },
  "language_info": {
   "codemirror_mode": {
    "name": "ipython",
    "version": 3
   },
   "file_extension": ".py",
   "mimetype": "text/x-python",
   "name": "python",
   "nbconvert_exporter": "python",
   "pygments_lexer": "ipython3",
   "version": "3.12.7"
  }
 },
 "nbformat": 4,
 "nbformat_minor": 2
}
