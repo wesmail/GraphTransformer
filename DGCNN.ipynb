{
 "cells": [
  {
   "cell_type": "markdown",
   "metadata": {},
   "source": [
    "## Backpropagation through `knn`"
   ]
  },
  {
   "cell_type": "code",
   "execution_count": null,
   "metadata": {},
   "outputs": [],
   "source": [
    "import torch\n",
    "import torch.nn.functional as F\n",
    "\n",
    "# Example: Feature matrix [B, N, D]\n",
    "B, N, D = 2, 5, 3\n",
    "features = torch.randn(B, N, D, requires_grad=True)\n",
    "\n",
    "# Compute pairwise distances\n",
    "pairwise_dist = torch.cdist(features, features, p=2)  # [B, N, N]\n",
    "\n",
    "# Get k-nearest neighbors (k=3)\n",
    "k = 2\n",
    "_, knn_indices = pairwise_dist.topk(k, dim=-1, largest=False)\n",
    "\n",
    "# Gather neighbor features\n",
    "neighbors = torch.gather(\n",
    "    features.unsqueeze(2).expand(-1, -1, N, -1),\n",
    "    2,\n",
    "    knn_indices.unsqueeze(-1).expand(-1, -1, -1, D)\n",
    ")\n",
    "\n",
    "# Simple loss on neighbors (mean of neighbor features)\n",
    "loss = neighbors.mean()\n",
    "loss.backward()\n",
    "\n",
    "print(\"Gradients on features:\\n\", features.grad)"
   ]
  },
  {
   "cell_type": "markdown",
   "metadata": {},
   "source": [
    "## Edge Cnvolution with edge features"
   ]
  },
  {
   "cell_type": "code",
   "execution_count": 11,
   "metadata": {},
   "outputs": [],
   "source": [
    "import torch\n",
    "import torch.nn as nn\n",
    "import torch.nn.functional as F\n",
    "\n",
    "class EdgeConvWithEdgeFeatures(nn.Module):\n",
    "    def __init__(self, in_channels, edge_in_channels, out_channels, k):\n",
    "        super(EdgeConvWithEdgeFeatures, self).__init__()\n",
    "        self.k = k\n",
    "        self.mlp = nn.Sequential(\n",
    "            nn.Linear(2 * in_channels + edge_in_channels, out_channels, bias=False),\n",
    "            nn.BatchNorm1d(out_channels),\n",
    "            nn.ReLU()\n",
    "        )\n",
    "    \n",
    "    def forward(self, x, edge_features):\n",
    "        \"\"\"\n",
    "        Args:\n",
    "            x: Input point cloud data, shape [B, N, D]\n",
    "               B - batch size, N - number of points, D - feature dimensions\n",
    "            edge_features: Input edge features, shape [B, N, k, E]\n",
    "               E - edge feature dimensions\n",
    "        Returns:\n",
    "            x_out: Updated features after EdgeConv, shape [B, N, out_channels]\n",
    "        \"\"\"\n",
    "        B, N, D = x.size()\n",
    "        _, _, _, E = edge_features.size()\n",
    "        \n",
    "        # Step 1: Compute pairwise distance and get k-nearest neighbors\n",
    "        pairwise_dist = torch.cdist(x, x, p=2)  # [B, N, N]\n",
    "        idx = pairwise_dist.topk(k=self.k, dim=-1, largest=False)[1]  # [B, N, k]\n",
    "        \n",
    "        # Step 2: Gather neighbor features\n",
    "        neighbors = torch.gather(\n",
    "            x.unsqueeze(2).expand(-1, -1, N, -1), \n",
    "            2, \n",
    "            idx.unsqueeze(-1).expand(-1, -1, -1, D)\n",
    "        )  # [B, N, k, D]\n",
    "        \n",
    "        # Central point repeated for k neighbors: [B, N, k, D]\n",
    "        central = x.unsqueeze(2).expand(-1, -1, self.k, -1)\n",
    "        \n",
    "        # Step 3: Compute edge features\n",
    "        relative_features = neighbors - central  # [B, N, k, D]\n",
    "        combined_features = torch.cat([central, relative_features, edge_features], dim=-1)  # [B, N, k, 2*D + E]\n",
    "        \n",
    "        # Step 4: Apply MLP and aggregation\n",
    "        combined_features = self.mlp(combined_features.view(-1, 2 * D + E))  # [B * N * k, out_channels]\n",
    "        combined_features = combined_features.view(B, N, self.k, -1)  # Reshape to [B, N, k, out_channels]\n",
    "        \n",
    "        # Aggregate (max pooling across neighbors)\n",
    "        x_out = combined_features.max(dim=2)[0]  # [B, N, out_channels]\n",
    "        \n",
    "        return x_out\n"
   ]
  },
  {
   "cell_type": "markdown",
   "metadata": {},
   "source": [
    "### Without Edge Features"
   ]
  },
  {
   "cell_type": "code",
   "execution_count": null,
   "metadata": {},
   "outputs": [
    {
     "name": "stdout",
     "output_type": "stream",
     "text": [
      "Output Shape: torch.Size([1, 4, 16])\n"
     ]
    }
   ],
   "source": [
    "B, N, D, k = 1, 4, 3, 2\n",
    "x = torch.rand(B, N, D)  # Point cloud (Graph) features\n",
    "edge_features = torch.zeros(B, N, k, 0)  # No edge features (E = 0)\n",
    "\n",
    "model = EdgeConvWithEdgeFeatures(in_channels=D, edge_in_channels=0, out_channels=16, k=k)\n",
    "output = model(x, edge_features)\n",
    "print(\"Output Shape:\", output.shape)  # [B, N, 16]"
   ]
  },
  {
   "cell_type": "markdown",
   "metadata": {},
   "source": [
    "### With Edge Features"
   ]
  },
  {
   "cell_type": "code",
   "execution_count": null,
   "metadata": {},
   "outputs": [
    {
     "name": "stdout",
     "output_type": "stream",
     "text": [
      "Output Shape: torch.Size([1, 4, 16])\n"
     ]
    }
   ],
   "source": [
    "B, N, D, k, E = 1, 4, 3, 2, 2\n",
    "x = torch.rand(B, N, D)  # Point cloud (Graph) features\n",
    "edge_features = torch.rand(B, N, k, E)  # Edge features\n",
    "\n",
    "model = EdgeConvWithEdgeFeatures(in_channels=D, edge_in_channels=E, out_channels=16, k=k)\n",
    "output = model(x, edge_features)\n",
    "print(\"Output Shape:\", output.shape)  # [B, N, 16]"
   ]
  },
  {
   "cell_type": "markdown",
   "metadata": {},
   "source": [
    "### Custom Attention with Interaction Matrix"
   ]
  },
  {
   "cell_type": "code",
   "execution_count": null,
   "metadata": {},
   "outputs": [],
   "source": [
    "class AugmentedMultiHeadAttention(nn.Module):\n",
    "    def __init__(self, embed_dim, u_feat=4, dropout=0.0, num_heads=1, qkv_bias=False):\n",
    "        super().__init__()\n",
    "        assert embed_dim % num_heads == 0, \"embed_dim must be divisible by num_heads\"\n",
    "\n",
    "        self.embed_dim = embed_dim\n",
    "        self.num_heads = num_heads\n",
    "        self.head_dim = embed_dim // num_heads # Reduce the projection dim to match desired output dim\n",
    "        \n",
    "        self.u_embd = nn.Linear(u_feat, self.num_heads)\n",
    "\n",
    "        self.W_q = nn.LazyLinear(embed_dim, bias=qkv_bias)\n",
    "        self.W_k = nn.LazyLinear(embed_dim, bias=qkv_bias)\n",
    "        self.W_v = nn.LazyLinear(embed_dim, bias=qkv_bias)\n",
    "        self.W_o = nn.LazyLinear(embed_dim)  # Linear output layer to combine head outputs\n",
    "        self.dropout = nn.Dropout(dropout)\n",
    "\n",
    "    def forward(self, x, u=None):\n",
    "        # x shape = (batch, num_tokens, embed_dim)\n",
    "        bs, num_tokens, _ = x.shape\n",
    "        \n",
    "        # Change feature dimention in the interaction matrix\n",
    "        u = self.u_embd(u)\n",
    "\n",
    "        K = self.W_k(x)\n",
    "        Q = self.W_q(x)\n",
    "        V = self.W_v(x)\n",
    "\n",
    "        # We implicitly split the matrix by adding a `num_heads` dimension\n",
    "        # Unroll last dim: (b, num_tokens, d_out) -> (b, num_tokens, num_heads, head_dim)\n",
    "        K = K.view(bs, num_tokens, self.num_heads, self.head_dim) \n",
    "        V = V.view(bs, num_tokens, self.num_heads, self.head_dim)\n",
    "        Q = Q.view(bs, num_tokens, self.num_heads, self.head_dim)\n",
    "        print(K.shape)\n",
    "\n",
    "        # Transpose: (b, num_tokens, num_heads, head_dim) -> (b, num_heads, num_tokens, head_dim)\n",
    "        K = K.transpose(1, 2)\n",
    "        Q = Q.transpose(1, 2)\n",
    "        V = V.transpose(1, 2)\n",
    "\n",
    "        # Compute scaled dot-product attention (aka self-attention) with a causal mask\n",
    "        attn_scores = Q @ K.transpose(2, 3)  # Dot product for each head (num_tokens, head_dim) * (head_dim, num_tokens)\n",
    "        \n",
    "        # Original mask truncated to the number of tokens and converted to boolean\n",
    "        mask_bool = u != 0\n",
    "\n",
    "        # Use the mask to fill attention scores\n",
    "        u.masked_fill_(mask_bool, -torch.inf)\n",
    "        \n",
    "        attn_weights = torch.softmax((attn_scores / K.shape[-1]**0.5) + u.transpose(3, 1), dim=-1)\n",
    "        attn_weights = self.dropout(attn_weights)\n",
    "\n",
    "        # Shape: (b, num_tokens, num_heads, head_dim)\n",
    "        context_vec = (attn_weights @ V).transpose(1, 2) \n",
    "\n",
    "        # Combine heads, where self.d_out = self.num_heads * self.head_dim\n",
    "        context_vec = context_vec.contiguous().view(bs, num_tokens, self.embed_dim)\n",
    "        context_vec = self.W_o(context_vec) # optional projection\n",
    "\n",
    "        return context_vec"
   ]
  },
  {
   "cell_type": "markdown",
   "metadata": {},
   "source": [
    "### Particle Transformer Simple Implementation"
   ]
  },
  {
   "cell_type": "code",
   "execution_count": null,
   "metadata": {},
   "outputs": [],
   "source": [
    "import torch\n",
    "import torch.nn as nn\n",
    "\n",
    "class ParticleAttentionBlock(nn.Module):\n",
    "    def __init__(self, embed_dim, expansion_factor=4, num_heads=1):\n",
    "        super(ParticleAttentionBlock, self).__init__()\n",
    "        self.norm1 = nn.LayerNorm(embed_dim)\n",
    "        self.norm2 = nn.LayerNorm(embed_dim)\n",
    "        self.pmha = nn.MultiheadAttention(embed_dim=embed_dim, num_heads=num_heads, batch_first=True)\n",
    "        self.mlp = nn.Sequential(\n",
    "            nn.LayerNorm(embed_dim),\n",
    "            nn.Linear(embed_dim, expansion_factor * embed_dim),\n",
    "            nn.GELU(),\n",
    "            nn.LayerNorm(expansion_factor * embed_dim),\n",
    "            nn.Linear(expansion_factor * embed_dim, embed_dim),\n",
    "        )\n",
    "\n",
    "    def forward(self, x, u=None):\n",
    "        x_res = x\n",
    "        x = self.norm1(x)\n",
    "        attn_output, _ = self.pmha(x,x,x, need_weights=False, attn_mask=u.flatten(start_dim=0, end_dim=1))\n",
    "        x = self.norm2(attn_output)\n",
    "        h = x + x_res\n",
    "        z = self.mlp(h)\n",
    "        return z+h\n",
    "\n",
    "class ParticleTransformer(nn.Module):\n",
    "    def __init__(self, feat_particles, feat_interaction, embed_dim, num_heads, num_blocks, num_classes=1):\n",
    "        super(ParticleTransformer, self).__init__()\n",
    "        assert (embed_dim % num_heads == 0), \\\n",
    "            \"embed_dim must be divisible by num_heads\"        \n",
    "        self.particle_embed = nn.Linear(feat_particles, embed_dim)\n",
    "        self.interaction_embed = nn.Linear(feat_interaction, num_heads)\n",
    "        self.blocks = nn.ModuleList([\n",
    "            ParticleAttentionBlock(embed_dim=embed_dim, num_heads=num_heads) for _ in range(num_blocks)\n",
    "        ])\n",
    "        self.mlp_head = nn.Sequential(\n",
    "            nn.Linear(embed_dim, num_classes),\n",
    "            nn.Sigmoid()\n",
    "        )\n",
    "\n",
    "    def forward(self, particles, interactions):\n",
    "        x = self.particle_embed(particles)\n",
    "        u = self.interaction_embed(interactions).transpose(3, 1)\n",
    "        print(x.shape, u.shape)\n",
    "\n",
    "        for block in self.blocks:\n",
    "            x = block(x, u)\n",
    "\n",
    "        # Aggregate features (e.g., mean pooling)\n",
    "        x = x.mean(dim=1)  # Pool across particles\n",
    "\n",
    "        logits = self.mlp_head(x)\n",
    "        return logits\n",
    "\n",
    "# Example usage\n",
    "num_particles = 10\n",
    "embed_dim = 64\n",
    "num_blocks = 4\n",
    "num_classes = 5\n",
    "\n",
    "particles = torch.rand(5, num_particles, 64)\n",
    "interactions = torch.rand(5, 1, num_particles, num_particles)\n",
    "\n",
    "model = ParticleAttentionBlock(embed_dim=64)\n",
    "output = model(particles, interactions)\n",
    "print(output.shape)  # Output shape: [32, num_classes]\n"
   ]
  }
 ],
 "metadata": {
  "kernelspec": {
   "display_name": "pytorch",
   "language": "python",
   "name": "python3"
  },
  "language_info": {
   "codemirror_mode": {
    "name": "ipython",
    "version": 3
   },
   "file_extension": ".py",
   "mimetype": "text/x-python",
   "name": "python",
   "nbconvert_exporter": "python",
   "pygments_lexer": "ipython3",
   "version": "3.12.7"
  }
 },
 "nbformat": 4,
 "nbformat_minor": 2
}
